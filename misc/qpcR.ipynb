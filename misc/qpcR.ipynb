{
 "cells": [
  {
   "cell_type": "markdown",
   "metadata": {},
   "source": [
    "# qPCR analysis"
   ]
  },
  {
   "cell_type": "markdown",
   "metadata": {},
   "source": [
    "## Немножко основ"
   ]
  },
  {
   "cell_type": "markdown",
   "metadata": {},
   "source": [
    "Термины\n",
    "\n",
    "* $e$ - эффективность амплификации данного гена в данных условиях: $1 < e < 2$\n",
    "* $N_x$ - число молекул продукта после цикла $x$\n",
    "* Ct - номер цикла, на котором интенсивность флуоресценции превышает порог (куча разных вариантов расчета).\n",
    "* reference - ген сравнения (с константной экспрессией), target - ген интереса\n",
    "* control - проба-контроль (клетки без воздействия), treatment - проба, которую надо сравнить с контролем (после воздействия)\n",
    "\n",
    "$\\begin{align}\n",
    "N_{i+1} = N_i \\cdot e \\\\\n",
    "N_x = N_0 \\cdot e^x\n",
    "\\end{align}$\n",
    "\n",
    "(на самом деле $N_x = N_0 \\cdot e^{x-1}$, если ДНК одноцепочечная в начале, т.е. кДНК, но далее это будет неважно)\n",
    "\n",
    "$\\begin{align}\n",
    "&I_{fluorescence} = k \\cdot N_x \\\\\n",
    "&N \\sim e^{-Ct}\n",
    "\\end{align}$\n",
    "\n",
    "Если $e_{\\text{target}}=e_{\\text{reference}}=2$ (эффективность амплификации 100%, т.е. полное удвоение за цикл), то\n",
    "\n",
    "$\\begin{align}\n",
    "&N \\sim 2^{-Ct} \\\\\n",
    "&R^{sample} = \\frac{N^{sample}_{target}}{N^{sample}_{reference}} = \\frac{2^{-Ct^{sample}_{target}}}{2^{-Ct^{sample}_{reference}}} = 2^{Ct^{sample}_{reference}-Ct^{sample}_{target}} = 2^{\\Delta Ct^{sample}} \\\\\n",
    "&R^{treatment/control} = \\frac{2^{\\Delta Ct^{treatment}}}{2^{\\Delta Ct^{control}}} = 2^{\\Delta Ct^{treatment}-\\Delta Ct^{control}} = 2^{\\Delta\\Delta Ct}\n",
    "\\end{align}$\n",
    "\n",
    "Если эффективности отличаются, формула сложнее\n",
    "\n",
    "$\\begin{align}\n",
    "R^{treatment/control} = \\frac{{e_{target}}^{-Ct^{treatment}_{target}}}{{e_{reference}}^{-Ct^{treatment}_{reference}}} \\cdot \\frac{{e_{reference}}^{-Ct^{control}_{reference}}}{{e_{target}}^{-Ct^{control}_{target}}}\n",
    "\\end{align}$\n",
    "\n",
    "Как расчитать $e_{gene}$? Исходя из формулы $N_{i+1} = N_i \\cdot e$. Однако на разных участках кривой это значение разное, нам нужен участок с геометрической прогрессией. Но как его найти? Есть много алгоритмов."
   ]
  },
  {
   "cell_type": "markdown",
   "metadata": {},
   "source": [
    "## Расчеты на R"
   ]
  },
  {
   "cell_type": "code",
   "execution_count": 230,
   "metadata": {},
   "outputs": [],
   "source": [
    "library(qpcR)\n",
    "library(tidyverse)"
   ]
  },
  {
   "cell_type": "markdown",
   "metadata": {},
   "source": [
    "Как выглядят тестовые данные?"
   ]
  },
  {
   "cell_type": "code",
   "execution_count": 133,
   "metadata": {},
   "outputs": [
    {
     "data": {
      "text/html": [
       "<table>\n",
       "<thead><tr><th scope=col>Cycles</th><th scope=col>F1.1</th><th scope=col>F1.2</th><th scope=col>F1.3</th><th scope=col>F1.4</th></tr></thead>\n",
       "<tbody>\n",
       "\t<tr><td>1           </td><td>-0.059106239</td><td>-0.056939713</td><td>0.005921348 </td><td>-0.022848656</td></tr>\n",
       "\t<tr><td>2           </td><td>-0.036877204</td><td>-0.035405393</td><td>0.014257227 </td><td>-0.011515292</td></tr>\n",
       "\t<tr><td>3           </td><td>-0.015347616</td><td>-0.019087576</td><td>0.020401344 </td><td> 0.003447348</td></tr>\n",
       "\t<tr><td>4           </td><td>-0.000611298</td><td>-0.002992528</td><td>0.034001042 </td><td> 0.009564208</td></tr>\n",
       "\t<tr><td>5           </td><td> 0.021857274</td><td> 0.022171068</td><td>0.039705011 </td><td> 0.021352392</td></tr>\n",
       "</tbody>\n",
       "</table>\n"
      ],
      "text/latex": [
       "\\begin{tabular}{r|lllll}\n",
       " Cycles & F1.1 & F1.2 & F1.3 & F1.4\\\\\n",
       "\\hline\n",
       "\t 1            & -0.059106239 & -0.056939713 & 0.005921348  & -0.022848656\\\\\n",
       "\t 2            & -0.036877204 & -0.035405393 & 0.014257227  & -0.011515292\\\\\n",
       "\t 3            & -0.015347616 & -0.019087576 & 0.020401344  &  0.003447348\\\\\n",
       "\t 4            & -0.000611298 & -0.002992528 & 0.034001042  &  0.009564208\\\\\n",
       "\t 5            &  0.021857274 &  0.022171068 & 0.039705011  &  0.021352392\\\\\n",
       "\\end{tabular}\n"
      ],
      "text/markdown": [
       "\n",
       "| Cycles | F1.1 | F1.2 | F1.3 | F1.4 |\n",
       "|---|---|---|---|---|\n",
       "| 1            | -0.059106239 | -0.056939713 | 0.005921348  | -0.022848656 |\n",
       "| 2            | -0.036877204 | -0.035405393 | 0.014257227  | -0.011515292 |\n",
       "| 3            | -0.015347616 | -0.019087576 | 0.020401344  |  0.003447348 |\n",
       "| 4            | -0.000611298 | -0.002992528 | 0.034001042  |  0.009564208 |\n",
       "| 5            |  0.021857274 |  0.022171068 | 0.039705011  |  0.021352392 |\n",
       "\n"
      ],
      "text/plain": [
       "  Cycles F1.1         F1.2         F1.3        F1.4        \n",
       "1 1      -0.059106239 -0.056939713 0.005921348 -0.022848656\n",
       "2 2      -0.036877204 -0.035405393 0.014257227 -0.011515292\n",
       "3 3      -0.015347616 -0.019087576 0.020401344  0.003447348\n",
       "4 4      -0.000611298 -0.002992528 0.034001042  0.009564208\n",
       "5 5       0.021857274  0.022171068 0.039705011  0.021352392"
      ]
     },
     "metadata": {},
     "output_type": "display_data"
    }
   ],
   "source": [
    "# data\n",
    "reps[1:5,1:5]"
   ]
  },
  {
   "cell_type": "code",
   "execution_count": 137,
   "metadata": {},
   "outputs": [
    {
     "name": "stdout",
     "output_type": "stream",
     "text": [
      "'data.frame':\t49 obs. of  9 variables:\n",
      " $ Cycles: num  1 2 3 4 5 6 7 8 9 10 ...\n",
      " $ F1.1  : num  -0.059106 -0.036877 -0.015348 -0.000611 0.021857 ...\n",
      " $ F1.2  : num  -0.05694 -0.03541 -0.01909 -0.00299 0.02217 ...\n",
      " $ F1.3  : num  0.00592 0.01426 0.0204 0.034 0.03971 ...\n",
      " $ F1.4  : num  -0.02285 -0.01152 0.00345 0.00956 0.02135 ...\n",
      " $ F2.1  : num  -0.0265 -0.01878 -0.00878 -0.00158 0.01404 ...\n",
      " $ F2.2  : num  -0.02837 -0.01717 -0.00796 -0.00335 0.01216 ...\n",
      " $ F2.3  : num  -0.0158 0.0145 0.0221 0.0234 0.0323 ...\n",
      " $ F2.4  : num  0.00246 0.0043 0.01271 0.02062 0.02297 ...\n"
     ]
    }
   ],
   "source": [
    "reps[,1:9] %>% str"
   ]
  },
  {
   "cell_type": "markdown",
   "metadata": {},
   "source": [
    "Фитируем модели с помощью 4-параметрических сигмоид (`l4`)."
   ]
  },
  {
   "cell_type": "code",
   "execution_count": null,
   "metadata": {},
   "outputs": [],
   "source": [
    "options(repr.plot.width = 3,repr.plot.height = 2.5)\n",
    "op <- par(oma = c(2,4,0,0) + 0.1,\n",
    "          mar = c(0,0,1,1) + 0.1)"
   ]
  },
  {
   "cell_type": "code",
   "execution_count": 200,
   "metadata": {},
   "outputs": [
    {
     "name": "stdout",
     "output_type": "stream",
     "text": [
      "Calculating delta of first/second derivative maxima...\n",
      "........\n",
      "[1] \"modlist\" \"pcrfit\" \n"
     ]
    },
    {
     "data": {
      "image/png": "[encoded data removed]",
      "text/plain": [
       "plot without title"
      ]
     },
     "metadata": {},
     "output_type": "display_data"
    }
   ],
   "source": [
    "ml1 <- modlist(reps, 1, c(2:7, 14:15), model = l4, verbose=F)\n",
    "plot(ml1, col = gl(3,4))"
   ]
  },
  {
   "cell_type": "markdown",
   "metadata": {},
   "source": [
    "Теперь из кривых можно посчитать Ct и эффективности (дофига настроек, алгоритмов расчета)."
   ]
  },
  {
   "cell_type": "code",
   "execution_count": 225,
   "metadata": {},
   "outputs": [
    {
     "name": "stdout",
     "output_type": "stream",
     "text": [
      ".......\n",
      "......\n",
      "...........\n",
      "..........\n",
      ".......\n",
      "........\n",
      "........\n",
      ".......\n",
      "\n"
     ]
    },
    {
     "data": {
      "text/html": [
       "<table>\n",
       "<thead><tr><th></th><th scope=col>F1.1</th><th scope=col>F1.2</th><th scope=col>F1.3</th><th scope=col>F1.4</th><th scope=col>F2.1</th><th scope=col>F2.2</th><th scope=col>F4.1</th><th scope=col>F4.2</th></tr></thead>\n",
       "<tbody>\n",
       "\t<tr><th scope=row>ct</th><td>15.440000</td><td>15.330000</td><td>14.840000</td><td>15.340000</td><td>18.890000</td><td>18.710000</td><td>25.340000</td><td>25.120000</td></tr>\n",
       "\t<tr><th scope=row>eff</th><td> 1.739444</td><td> 1.737737</td><td> 1.614832</td><td> 1.668115</td><td> 1.763094</td><td> 1.762981</td><td> 1.742593</td><td> 1.756755</td></tr>\n",
       "</tbody>\n",
       "</table>\n"
      ],
      "text/latex": [
       "\\begin{tabular}{r|llllllll}\n",
       "  & F1.1 & F1.2 & F1.3 & F1.4 & F2.1 & F2.2 & F4.1 & F4.2\\\\\n",
       "\\hline\n",
       "\tct & 15.440000 & 15.330000 & 14.840000 & 15.340000 & 18.890000 & 18.710000 & 25.340000 & 25.120000\\\\\n",
       "\teff &  1.739444 &  1.737737 &  1.614832 &  1.668115 &  1.763094 &  1.762981 &  1.742593 &  1.756755\\\\\n",
       "\\end{tabular}\n"
      ],
      "text/markdown": [
       "\n",
       "| <!--/--> | F1.1 | F1.2 | F1.3 | F1.4 | F2.1 | F2.2 | F4.1 | F4.2 |\n",
       "|---|---|---|---|---|---|---|---|---|\n",
       "| ct | 15.440000 | 15.330000 | 14.840000 | 15.340000 | 18.890000 | 18.710000 | 25.340000 | 25.120000 |\n",
       "| eff |  1.739444 |  1.737737 |  1.614832 |  1.668115 |  1.763094 |  1.762981 |  1.742593 |  1.756755 |\n",
       "\n"
      ],
      "text/plain": [
       "    F1.1      F1.2      F1.3      F1.4      F2.1      F2.2      F4.1     \n",
       "ct  15.440000 15.330000 14.840000 15.340000 18.890000 18.710000 25.340000\n",
       "eff  1.739444  1.737737  1.614832  1.668115  1.763094  1.762981  1.742593\n",
       "    F4.2     \n",
       "ct  25.120000\n",
       "eff  1.756755"
      ]
     },
     "metadata": {},
     "output_type": "display_data"
    }
   ],
   "source": [
    "ct = getPar(ml1, type = \"curve\", cp = \"cpD2\", eff='sliwin')\n",
    "ct"
   ]
  },
  {
   "cell_type": "markdown",
   "metadata": {},
   "source": [
    "Расчитать fold-difference (R) можно так (опять же, куча настроек) исходя из исходных кривых."
   ]
  },
  {
   "cell_type": "code",
   "execution_count": 223,
   "metadata": {},
   "outputs": [
    {
     "data": {
      "text/html": [
       "<strong>$`r1s1:r1c1:g1s1:g1c1`</strong> = <table>\n",
       "<thead><tr><th></th><th scope=col>Sim</th><th scope=col>Perm</th><th scope=col>Prop</th></tr></thead>\n",
       "<tbody>\n",
       "\t<tr><th scope=row>Mean</th><td> 90.67641</td><td> 90.41843</td><td> 90.65303</td></tr>\n",
       "\t<tr><th scope=row>Std.dev.</th><td> 19.54307</td><td> 16.58180</td><td> 19.08684</td></tr>\n",
       "\t<tr><th scope=row>Median</th><td> 88.78741</td><td>104.52708</td><td>       NA</td></tr>\n",
       "\t<tr><th scope=row>MAD</th><td> 18.96402</td><td>  6.52282</td><td>       NA</td></tr>\n",
       "\t<tr><th scope=row>Conf.lower</th><td> 58.04798</td><td> 72.36526</td><td> 53.24351</td></tr>\n",
       "\t<tr><th scope=row>Conf.upper</th><td>134.98803</td><td>108.59670</td><td>128.06255</td></tr>\n",
       "\t<tr><th scope=row>perm &gt; init</th><td>       NA</td><td>  0.00000</td><td>       NA</td></tr>\n",
       "\t<tr><th scope=row>perm == init</th><td>       NA</td><td>  0.51000</td><td>       NA</td></tr>\n",
       "\t<tr><th scope=row>perm &lt; init</th><td>       NA</td><td>  0.49000</td><td>       NA</td></tr>\n",
       "</tbody>\n",
       "</table>\n"
      ],
      "text/latex": [
       "\\textbf{\\$`r1s1:r1c1:g1s1:g1c1`} = \\begin{tabular}{r|lll}\n",
       "  & Sim & Perm & Prop\\\\\n",
       "\\hline\n",
       "\tMean &  90.67641 &  90.41843 &  90.65303\\\\\n",
       "\tStd.dev. &  19.54307 &  16.58180 &  19.08684\\\\\n",
       "\tMedian &  88.78741 & 104.52708 &        NA\\\\\n",
       "\tMAD &  18.96402 &   6.52282 &        NA\\\\\n",
       "\tConf.lower &  58.04798 &  72.36526 &  53.24351\\\\\n",
       "\tConf.upper & 134.98803 & 108.59670 & 128.06255\\\\\n",
       "\tperm > init &        NA &   0.00000 &        NA\\\\\n",
       "\tperm == init &        NA &   0.51000 &        NA\\\\\n",
       "\tperm < init &        NA &   0.49000 &        NA\\\\\n",
       "\\end{tabular}\n"
      ],
      "text/markdown": [
       "**$`r1s1:r1c1:g1s1:g1c1`** = \n",
       "| <!--/--> | Sim | Perm | Prop |\n",
       "|---|---|---|---|\n",
       "| Mean |  90.67641 |  90.41843 |  90.65303 |\n",
       "| Std.dev. |  19.54307 |  16.58180 |  19.08684 |\n",
       "| Median |  88.78741 | 104.52708 |        NA |\n",
       "| MAD |  18.96402 |   6.52282 |        NA |\n",
       "| Conf.lower |  58.04798 |  72.36526 |  53.24351 |\n",
       "| Conf.upper | 134.98803 | 108.59670 | 128.06255 |\n",
       "| perm > init |        NA |   0.00000 |        NA |\n",
       "| perm == init |        NA |   0.51000 |        NA |\n",
       "| perm < init |        NA |   0.49000 |        NA |\n",
       "\n"
      ],
      "text/plain": [
       "$`r1s1:r1c1:g1s1:g1c1`\n",
       "                   Sim      Perm      Prop\n",
       "Mean          90.67641  90.41843  90.65303\n",
       "Std.dev.      19.54307  16.58180  19.08684\n",
       "Median        88.78741 104.52708        NA\n",
       "MAD           18.96402   6.52282        NA\n",
       "Conf.lower    58.04798  72.36526  53.24351\n",
       "Conf.upper   134.98803 108.59670 128.06255\n",
       "perm > init         NA   0.00000        NA\n",
       "perm == init        NA   0.51000        NA\n",
       "perm < init         NA   0.49000        NA\n"
      ]
     },
     "metadata": {},
     "output_type": "display_data"
    }
   ],
   "source": [
    "groups = c(\"r1s1\", \"r1s1\", \"r1c1\", \"r1c1\", \"g1s1\", \"g1s1\", \"g1c1\", \"g1c1\")\n",
    "dat <- pcrbatch(reps, fluo = c(2:7, 14:15), model = l4, verbose = F, plot=F)\n",
    "ratiobatch(dat, groups, plot=F, verbose=F, which.cp = \"cpD2\", which.eff = 'sli')$resList"
   ]
  },
  {
   "cell_type": "markdown",
   "metadata": {},
   "source": [
    "Похоже на правду, если вручную прикинуть, считая, что эффективность 2."
   ]
  },
  {
   "cell_type": "code",
   "execution_count": 181,
   "metadata": {},
   "outputs": [
    {
     "data": {
      "text/html": [
       "90.5096679918781"
      ],
      "text/latex": [
       "90.5096679918781"
      ],
      "text/markdown": [
       "90.5096679918781"
      ],
      "text/plain": [
       "[1] 90.50967"
      ]
     },
     "metadata": {},
     "output_type": "display_data"
    }
   ],
   "source": [
    "2^(25.3-18.8)"
   ]
  },
  {
   "cell_type": "markdown",
   "metadata": {},
   "source": [
    "### Если есть только Ct???"
   ]
  },
  {
   "cell_type": "markdown",
   "metadata": {},
   "source": [
    "С эффективностями результат конечно лучше..."
   ]
  },
  {
   "cell_type": "code",
   "execution_count": 226,
   "metadata": {},
   "outputs": [
    {
     "name": "stdout",
     "output_type": "stream",
     "text": [
      "[1] \"r1s1\" \"r1s1\" \"r1c1\" \"r1c1\" \"g1s1\" \"g1s1\" \"g1c1\" \"g1c1\"\n",
      "[1] 15.44 15.33 14.84 15.34 18.89 18.71 25.34 25.12\n",
      "[1] 1.739444 1.737737 1.614832 1.668115 1.763094 1.762981 1.742593 1.756755\n",
      "\n",
      "Checking if sample number and 'group' length are equal...\n",
      "Checking that 'group' is of class <character>...\n",
      "Checking for number of control samples, treatment samples, \n",
      "genes-of-interest and reference genes:\n",
      " Found 1 control sample(s)...\n",
      " Found 1 treatment sample(s)...\n",
      " Found 1 genes-of-interest in control sample(s)...\n",
      " Found 1 genes-of-interest in treatment sample(s)...\n",
      " Found 1 reference genes in control sample(s)...\n",
      " Found 1 reference genes in treatment sample(s)...\n",
      "Calculating r1s1:r1c1:g1s1:g1c1 (1 of 1)...\n"
     ]
    },
    {
     "data": {
      "text/html": [
       "<strong>$`r1s1:r1c1:g1s1:g1c1`</strong> = <table>\n",
       "<thead><tr><th></th><th scope=col>Sim</th><th scope=col>Perm</th><th scope=col>Prop</th></tr></thead>\n",
       "<tbody>\n",
       "\t<tr><th scope=row>Mean</th><td> 97.59576</td><td> 92.69254</td><td> 97.21504</td></tr>\n",
       "\t<tr><th scope=row>Std.dev.</th><td> 43.74558</td><td> 29.59494</td><td> 40.00655</td></tr>\n",
       "\t<tr><th scope=row>Median</th><td> 88.80740</td><td> 64.54520</td><td>       NA</td></tr>\n",
       "\t<tr><th scope=row>MAD</th><td> 37.19225</td><td>  2.58008</td><td>       NA</td></tr>\n",
       "\t<tr><th scope=row>Conf.lower</th><td> 37.64064</td><td> 62.93548</td><td> 18.80364</td></tr>\n",
       "\t<tr><th scope=row>Conf.upper</th><td>206.88286</td><td>124.18806</td><td>175.62643</td></tr>\n",
       "\t<tr><th scope=row>perm &gt; init</th><td>       NA</td><td>  0.00000</td><td>       NA</td></tr>\n",
       "\t<tr><th scope=row>perm == init</th><td>       NA</td><td>  0.50250</td><td>       NA</td></tr>\n",
       "\t<tr><th scope=row>perm &lt; init</th><td>       NA</td><td>  0.49750</td><td>       NA</td></tr>\n",
       "</tbody>\n",
       "</table>\n"
      ],
      "text/latex": [
       "\\textbf{\\$`r1s1:r1c1:g1s1:g1c1`} = \\begin{tabular}{r|lll}\n",
       "  & Sim & Perm & Prop\\\\\n",
       "\\hline\n",
       "\tMean &  97.59576 &  92.69254 &  97.21504\\\\\n",
       "\tStd.dev. &  43.74558 &  29.59494 &  40.00655\\\\\n",
       "\tMedian &  88.80740 &  64.54520 &        NA\\\\\n",
       "\tMAD &  37.19225 &   2.58008 &        NA\\\\\n",
       "\tConf.lower &  37.64064 &  62.93548 &  18.80364\\\\\n",
       "\tConf.upper & 206.88286 & 124.18806 & 175.62643\\\\\n",
       "\tperm > init &        NA &   0.00000 &        NA\\\\\n",
       "\tperm == init &        NA &   0.50250 &        NA\\\\\n",
       "\tperm < init &        NA &   0.49750 &        NA\\\\\n",
       "\\end{tabular}\n"
      ],
      "text/markdown": [
       "**$`r1s1:r1c1:g1s1:g1c1`** = \n",
       "| <!--/--> | Sim | Perm | Prop |\n",
       "|---|---|---|---|\n",
       "| Mean |  97.59576 |  92.69254 |  97.21504 |\n",
       "| Std.dev. |  43.74558 |  29.59494 |  40.00655 |\n",
       "| Median |  88.80740 |  64.54520 |        NA |\n",
       "| MAD |  37.19225 |   2.58008 |        NA |\n",
       "| Conf.lower |  37.64064 |  62.93548 |  18.80364 |\n",
       "| Conf.upper | 206.88286 | 124.18806 | 175.62643 |\n",
       "| perm > init |        NA |   0.00000 |        NA |\n",
       "| perm == init |        NA |   0.50250 |        NA |\n",
       "| perm < init |        NA |   0.49750 |        NA |\n",
       "\n"
      ],
      "text/plain": [
       "$`r1s1:r1c1:g1s1:g1c1`\n",
       "                   Sim      Perm      Prop\n",
       "Mean          97.59576  92.69254  97.21504\n",
       "Std.dev.      43.74558  29.59494  40.00655\n",
       "Median        88.80740  64.54520        NA\n",
       "MAD           37.19225   2.58008        NA\n",
       "Conf.lower    37.64064  62.93548  18.80364\n",
       "Conf.upper   206.88286 124.18806 175.62643\n",
       "perm > init         NA   0.00000        NA\n",
       "perm == init        NA   0.50250        NA\n",
       "perm < init         NA   0.49750        NA\n"
      ]
     },
     "metadata": {},
     "output_type": "display_data"
    }
   ],
   "source": [
    "print(groups)\n",
    "ct_vector = as.numeric(ct[1,])\n",
    "print(ct_vector)\n",
    "eff_vector = as.numeric(ct[2,])\n",
    "print(eff_vector)\n",
    "ratioPar(group = groups, effVec = eff_vector, cpVec= ct_vector, plot=F)$resList"
   ]
  },
  {
   "cell_type": "markdown",
   "metadata": {},
   "source": [
    "Но можно считать, что все эффективности равны 2, тогда результат немного отличается."
   ]
  },
  {
   "cell_type": "code",
   "execution_count": 227,
   "metadata": {},
   "outputs": [
    {
     "name": "stdout",
     "output_type": "stream",
     "text": [
      "\n",
      "Checking if sample number and 'group' length are equal...\n",
      "Checking that 'group' is of class <character>...\n",
      "Checking for number of control samples, treatment samples, \n",
      "genes-of-interest and reference genes:\n",
      " Found 1 control sample(s)...\n",
      " Found 1 treatment sample(s)...\n",
      " Found 1 genes-of-interest in control sample(s)...\n",
      " Found 1 genes-of-interest in treatment sample(s)...\n",
      " Found 1 reference genes in control sample(s)...\n",
      " Found 1 reference genes in treatment sample(s)...\n",
      "Calculating r1s1:r1c1:g1s1:g1c1 (1 of 1)...\n"
     ]
    },
    {
     "data": {
      "text/html": [
       "<strong>$`r1s1:r1c1:g1s1:g1c1`</strong> = <table>\n",
       "<thead><tr><th></th><th scope=col>Sim</th><th scope=col>Perm</th><th scope=col>Prop</th></tr></thead>\n",
       "<tbody>\n",
       "\t<tr><th scope=row>Mean</th><td>110.23106 </td><td>109.472067</td><td>110.14264 </td></tr>\n",
       "\t<tr><th scope=row>Std.dev.</th><td> 32.27426 </td><td> 26.812584</td><td> 30.98036 </td></tr>\n",
       "\t<tr><th scope=row>Median</th><td>105.93814 </td><td>132.513910</td><td>       NA </td></tr>\n",
       "\t<tr><th scope=row>MAD</th><td> 30.09002 </td><td>  9.767594</td><td>       NA </td></tr>\n",
       "\t<tr><th scope=row>Conf.lower</th><td> 60.60519 </td><td> 80.748830</td><td> 49.42224 </td></tr>\n",
       "\t<tr><th scope=row>Conf.upper</th><td>184.84425 </td><td>138.607951</td><td>170.86304 </td></tr>\n",
       "\t<tr><th scope=row>perm &gt; init</th><td>       NA </td><td>  0.000000</td><td>       NA </td></tr>\n",
       "\t<tr><th scope=row>perm == init</th><td>       NA </td><td>  0.520500</td><td>       NA </td></tr>\n",
       "\t<tr><th scope=row>perm &lt; init</th><td>       NA </td><td>  0.479500</td><td>       NA </td></tr>\n",
       "</tbody>\n",
       "</table>\n"
      ],
      "text/latex": [
       "\\textbf{\\$`r1s1:r1c1:g1s1:g1c1`} = \\begin{tabular}{r|lll}\n",
       "  & Sim & Perm & Prop\\\\\n",
       "\\hline\n",
       "\tMean & 110.23106  & 109.472067 & 110.14264 \\\\\n",
       "\tStd.dev. &  32.27426  &  26.812584 &  30.98036 \\\\\n",
       "\tMedian & 105.93814  & 132.513910 &        NA \\\\\n",
       "\tMAD &  30.09002  &   9.767594 &        NA \\\\\n",
       "\tConf.lower &  60.60519  &  80.748830 &  49.42224 \\\\\n",
       "\tConf.upper & 184.84425  & 138.607951 & 170.86304 \\\\\n",
       "\tperm > init &        NA  &   0.000000 &        NA \\\\\n",
       "\tperm == init &        NA  &   0.520500 &        NA \\\\\n",
       "\tperm < init &        NA  &   0.479500 &        NA \\\\\n",
       "\\end{tabular}\n"
      ],
      "text/markdown": [
       "**$`r1s1:r1c1:g1s1:g1c1`** = \n",
       "| <!--/--> | Sim | Perm | Prop |\n",
       "|---|---|---|---|\n",
       "| Mean | 110.23106  | 109.472067 | 110.14264  |\n",
       "| Std.dev. |  32.27426  |  26.812584 |  30.98036  |\n",
       "| Median | 105.93814  | 132.513910 |        NA  |\n",
       "| MAD |  30.09002  |   9.767594 |        NA  |\n",
       "| Conf.lower |  60.60519  |  80.748830 |  49.42224  |\n",
       "| Conf.upper | 184.84425  | 138.607951 | 170.86304  |\n",
       "| perm > init |        NA  |   0.000000 |        NA  |\n",
       "| perm == init |        NA  |   0.520500 |        NA  |\n",
       "| perm < init |        NA  |   0.479500 |        NA  |\n",
       "\n"
      ],
      "text/plain": [
       "$`r1s1:r1c1:g1s1:g1c1`\n",
       "                   Sim       Perm      Prop\n",
       "Mean         110.23106 109.472067 110.14264\n",
       "Std.dev.      32.27426  26.812584  30.98036\n",
       "Median       105.93814 132.513910        NA\n",
       "MAD           30.09002   9.767594        NA\n",
       "Conf.lower    60.60519  80.748830  49.42224\n",
       "Conf.upper   184.84425 138.607951 170.86304\n",
       "perm > init         NA   0.000000        NA\n",
       "perm == init        NA   0.520500        NA\n",
       "perm < init         NA   0.479500        NA\n"
      ]
     },
     "metadata": {},
     "output_type": "display_data"
    }
   ],
   "source": [
    "ratioPar(group = groups, effVec = rep(2, length(ct_vector)), cpVec= ct_vector, plot=F)$resList"
   ]
  }
 ],
 "metadata": {
  "kernelspec": {
   "display_name": "R",
   "language": "R",
   "name": "ir"
  },
  "language_info": {
   "codemirror_mode": "r",
   "file_extension": ".r",
   "mimetype": "text/x-r-source",
   "name": "R",
   "pygments_lexer": "r",
   "version": "3.5.1"
  }
 },
 "nbformat": 4,
 "nbformat_minor": 2
}
